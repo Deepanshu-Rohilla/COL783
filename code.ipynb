{
 "cells": [
  {
   "cell_type": "code",
   "execution_count": 1,
   "metadata": {},
   "outputs": [],
   "source": [
    "import cv2\n",
    "import numpy as np"
   ]
  },
  {
   "cell_type": "code",
   "execution_count": 2,
   "metadata": {},
   "outputs": [
    {
     "ename": "KeyboardInterrupt",
     "evalue": "",
     "output_type": "error",
     "traceback": [
      "\u001b[0;31m---------------------------------------------------------------------------\u001b[0m",
      "\u001b[0;31mKeyboardInterrupt\u001b[0m                         Traceback (most recent call last)",
      "\u001b[1;32m/Users/deepanshu/Desktop/COL783/code.ipynb Cell 2\u001b[0m in \u001b[0;36m<cell line: 14>\u001b[0;34m()\u001b[0m\n\u001b[1;32m     <a href='vscode-notebook-cell:/Users/deepanshu/Desktop/COL783/code.ipynb#W1sZmlsZQ%3D%3D?line=11'>12</a>\u001b[0m \u001b[39m# Display the output\u001b[39;00m\n\u001b[1;32m     <a href='vscode-notebook-cell:/Users/deepanshu/Desktop/COL783/code.ipynb#W1sZmlsZQ%3D%3D?line=12'>13</a>\u001b[0m cv2\u001b[39m.\u001b[39mimshow(\u001b[39m'\u001b[39m\u001b[39mimg\u001b[39m\u001b[39m'\u001b[39m, img)\n\u001b[0;32m---> <a href='vscode-notebook-cell:/Users/deepanshu/Desktop/COL783/code.ipynb#W1sZmlsZQ%3D%3D?line=13'>14</a>\u001b[0m cv2\u001b[39m.\u001b[39;49mwaitKey(\u001b[39m0\u001b[39;49m)\n",
      "\u001b[0;31mKeyboardInterrupt\u001b[0m: "
     ]
    }
   ],
   "source": [
    "# Load the cascade\n",
    "face_cascade = cv2.CascadeClassifier('haarcascade_frontalface_default.xml')\n",
    "# Read the input image\n",
    "img = cv2.imread('a.jpg')\n",
    "# Convert into grayscale\n",
    "gray = cv2.cvtColor(img, cv2.COLOR_BGR2GRAY)\n",
    "# Detect faces\n",
    "faces = face_cascade.detectMultiScale(gray, 1.1, 4)\n",
    "# Draw rectangle around the faces\n",
    "for (x, y, w, h) in faces:\n",
    "    cv2.rectangle(img, (x, y), (x+w, y+h), (255, 0, 0), 2)\n",
    "# Display the output\n",
    "cv2.imshow('img', img)\n",
    "cv2.waitKey(0)"
   ]
  },
  {
   "cell_type": "code",
   "execution_count": 8,
   "metadata": {},
   "outputs": [
    {
     "name": "stdout",
     "output_type": "stream",
     "text": [
      "<class 'numpy.ndarray'>\n",
      "<attribute 'size' of 'numpy.ndarray' objects>\n"
     ]
    },
    {
     "data": {
      "text/plain": [
       "True"
      ]
     },
     "execution_count": 8,
     "metadata": {},
     "output_type": "execute_result"
    }
   ],
   "source": [
    "img = cv2.imread('d.png')\n",
    "temp= cv2.cvtColor(img, cv2.COLOR_RGB2BGR)\n",
    "lab_image = cv2.cvtColor(temp, cv2.COLOR_BGR2LAB)\n",
    "hsv_image = cv2.cvtColor(temp, cv2.COLOR_BGR2HSV)\n",
    "h,s,v = cv2.split(hsv_image)\n",
    "print(type(lab_image))\n",
    "l,a,b = cv2.split(lab_image)\n",
    "skinMask = ((a-143)/(6.5))*((a-143)/(6.5)) + ((b-148)/(12))*((b-148)/(12))<1\n",
    "Ms = skinMask and (s<0.25 or s>0.75) and (h<0.095)\n",
    "\n",
    "equ = cv2.equalizeHist(l)\n",
    "out = lab_image.copy()\n",
    "out[:,:,0] = equ\n",
    "final = cv2.cvtColor(out, cv2.COLOR_LAB2BGR)\n",
    "final1 = cv2.cvtColor(final, cv2.COLOR_BGR2RGB)\n",
    "cv2.imwrite('res.png',final1)"
   ]
  },
  {
   "cell_type": "code",
   "execution_count": 6,
   "metadata": {},
   "outputs": [
    {
     "name": "stdout",
     "output_type": "stream",
     "text": [
      "uint8\n"
     ]
    },
    {
     "ename": "KeyboardInterrupt",
     "evalue": "",
     "output_type": "error",
     "traceback": [
      "\u001b[0;31m---------------------------------------------------------------------------\u001b[0m",
      "\u001b[0;31mKeyboardInterrupt\u001b[0m                         Traceback (most recent call last)",
      "\u001b[1;32m/Users/deepanshu/Desktop/COL783/code.ipynb Cell 4\u001b[0m in \u001b[0;36m<cell line: 8>\u001b[0;34m()\u001b[0m\n\u001b[1;32m      <a href='vscode-notebook-cell:/Users/deepanshu/Desktop/COL783/code.ipynb#W4sZmlsZQ%3D%3D?line=5'>6</a>\u001b[0m l,a,b \u001b[39m=\u001b[39m cv2\u001b[39m.\u001b[39msplit(lab_image)\n\u001b[1;32m      <a href='vscode-notebook-cell:/Users/deepanshu/Desktop/COL783/code.ipynb#W4sZmlsZQ%3D%3D?line=6'>7</a>\u001b[0m cv2\u001b[39m.\u001b[39mimshow(\u001b[39m'\u001b[39m\u001b[39m'\u001b[39m, a)\n\u001b[0;32m----> <a href='vscode-notebook-cell:/Users/deepanshu/Desktop/COL783/code.ipynb#W4sZmlsZQ%3D%3D?line=7'>8</a>\u001b[0m cv2\u001b[39m.\u001b[39;49mwaitKey(\u001b[39m0\u001b[39;49m)\n",
      "\u001b[0;31mKeyboardInterrupt\u001b[0m: "
     ]
    }
   ],
   "source": [
    "import cv2\n",
    "org = cv2.imread('d.png', -1)\n",
    "print (org.dtype)\n",
    "# print uint8\n",
    "lab_image = cv2.cvtColor(org, cv2.COLOR_RGB2LAB)\n",
    "l,a,b = cv2.split(lab_image)\n",
    "cv2.imshow('', a)\n",
    "cv2.waitKey(0)\n"
   ]
  },
  {
   "cell_type": "code",
   "execution_count": null,
   "metadata": {},
   "outputs": [],
   "source": []
  }
 ],
 "metadata": {
  "kernelspec": {
   "display_name": "Python 3.10.4 ('col783')",
   "language": "python",
   "name": "python3"
  },
  "language_info": {
   "codemirror_mode": {
    "name": "ipython",
    "version": 3
   },
   "file_extension": ".py",
   "mimetype": "text/x-python",
   "name": "python",
   "nbconvert_exporter": "python",
   "pygments_lexer": "ipython3",
   "version": "3.10.4"
  },
  "orig_nbformat": 4,
  "vscode": {
   "interpreter": {
    "hash": "544fcb0bcf9ae3d9027b3c80eb1f25a1ffcdfe33c3fd4ca95ad1480664f8d5d0"
   }
  }
 },
 "nbformat": 4,
 "nbformat_minor": 2
}
