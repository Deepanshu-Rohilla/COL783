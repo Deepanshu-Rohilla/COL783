{
 "cells": [
  {
   "cell_type": "code",
   "execution_count": 27,
   "metadata": {},
   "outputs": [],
   "source": [
    "import cv2\n",
    "import numpy as np\n",
    "from scipy.sparse import spdiags\n",
    "from scipy.sparse.linalg import spsolve"
   ]
  },
  {
   "cell_type": "code",
   "execution_count": 56,
   "metadata": {},
   "outputs": [],
   "source": [
    "def face(img):\n",
    "    gray = cv2.cvtColor(img, cv2.COLOR_BGR2GRAY)\n",
    "    # Detect the faces\n",
    "    face_cascade = cv2.CascadeClassifier('haarcascade_frontalface_default.xml')\n",
    "    faces = face_cascade.detectMultiScale(gray, 1.1, 4)\n",
    "    # Draw the rectangle around each face\n",
    "    for (x, y, w, h) in faces:\n",
    "        cv2.rectangle(img, (x, y), (x+w, y+h), (255, 0, 0), 2)\n",
    "    cv2.imwrite(\"im.png\", img)\n",
    "    return faces"
   ]
  },
  {
   "cell_type": "code",
   "execution_count": 29,
   "metadata": {},
   "outputs": [],
   "source": [
    "def skinmask(img):\n",
    "    temp= cv2.cvtColor(img, cv2.COLOR_RGB2BGR)\n",
    "    lab_image = cv2.cvtColor(temp, cv2.COLOR_BGR2LAB)\n",
    "    hsv_image = cv2.cvtColor(temp, cv2.COLOR_BGR2HSV)\n",
    "    h,s,v = cv2.split(hsv_image)\n",
    "    l,a,b = cv2.split(lab_image)\n",
    "    skinMask = ((a-143)/(6.5))*((a-143)/(6.5)) + ((b-148)/(12))*((b-148)/(12))<1\n",
    "    Ms = skinMask.astype('uint8') & ((s<0.25).astype('uint8') | (s>0.75).astype('uint8')).astype('uint8') & (h<0.095).astype('uint8')"
   ]
  },
  {
   "cell_type": "code",
   "execution_count": 30,
   "metadata": {},
   "outputs": [],
   "source": [
    "def wlsfilter(image_orig, lambda_=0.4, alpha=1.2, small_eps=1e-4):\n",
    "    \"\"\"\n",
    "    ARGs:\n",
    "    -----\n",
    "    image: 0-255, uint8, single channel (e.g. grayscale or single L)\n",
    "    lambda_:\n",
    "    alpha:\n",
    "    RETURN:\n",
    "    -----\n",
    "    out: base, 0-1, float\n",
    "    detail: detail, 0-1, float\n",
    "    \"\"\"\n",
    "    print('wls: lambda, alpha', lambda_, alpha)\n",
    "    image = image_orig.astype(np.float)/255.0\n",
    "    s = image.shape\n",
    "    k = np.prod(s)\n",
    "\n",
    "    dy = np.diff(image, 1, 0)\n",
    "    dy = -lambda_ / (np.absolute(dy) ** alpha + small_eps)\n",
    "    dy = np.vstack((dy, np.zeros(s[1], )))\n",
    "    dy = dy.flatten()\n",
    "\n",
    "    dx = np.diff(image, 1, 1)\n",
    "    dx = -lambda_ / (np.absolute(dx) ** alpha + small_eps)\n",
    "    dx = np.hstack((dx, np.zeros(s[0], )[:, np.newaxis]))\n",
    "    dx = dx.flatten()\n",
    "    \n",
    "    a = spdiags(np.vstack((dx, dy)), [-s[0], -1], k, k)\n",
    "\n",
    "    d = 1 - (dx + np.roll(dx, s[0]) + dy + np.roll(dy, 1))\n",
    "    a = a + a.T + spdiags(d, 0, k, k)\n",
    "    _out = spsolve(a, image.flatten()).reshape(s[::-1])\n",
    "    out = np.rollaxis(_out,1)\n",
    "\n",
    "    detail = image - out\n",
    "    return out, detail"
   ]
  },
  {
   "cell_type": "code",
   "execution_count": 42,
   "metadata": {},
   "outputs": [],
   "source": [
    "from scipy.signal import argrelextrema\n",
    "def isBiModal(img):\n",
    "\n",
    "    blur = cv2.GaussianBlur(img,(5,5),0)\n",
    "    hist = cv2.calcHist([blur],[0],None,[256],[0,256])\n",
    "    maxI = [ argrelextrema(hist, np.greater, order=1)[0]]\n",
    "    # argrelextrema return (array([ 54, 132]),) (a tuple), only [0] used for 1d\n",
    "    minI = [ argrelextrema(h, np.less, order=1)[0]]\n",
    "    print(len(maxI))\n",
    "    print(len(minI))\n",
    "    if(len(maxI)>=2 and len(minI)>=1):\n",
    "        return True, maxI[0], maxI[1], minI[0]\n",
    "    else:\n",
    "        return None\n"
   ]
  },
  {
   "cell_type": "code",
   "execution_count": 62,
   "metadata": {},
   "outputs": [
    {
     "name": "stdout",
     "output_type": "stream",
     "text": [
      "4\n",
      "wls: lambda, alpha 0.4 1.2\n"
     ]
    },
    {
     "name": "stderr",
     "output_type": "stream",
     "text": [
      "/var/folders/9r/c944g64j4s77mdbqybgdg0f00000gn/T/ipykernel_33897/2296735934.py:14: DeprecationWarning: `np.float` is a deprecated alias for the builtin `float`. To silence this warning, use `float` by itself. Doing this will not modify any behavior and is safe. If you specifically wanted the numpy scalar type, use `np.float64` here.\n",
      "Deprecated in NumPy 1.20; for more details and guidance: https://numpy.org/devdocs/release/1.20.0-notes.html#deprecations\n",
      "  image = image_orig.astype(np.float)/255.0\n",
      "/Users/deepanshu/miniconda3/envs/col783/lib/python3.10/site-packages/scipy/sparse/linalg/_dsolve/linsolve.py:168: SparseEfficiencyWarning: spsolve requires A be CSC or CSR matrix format\n",
      "  warn('spsolve requires A be CSC or CSR matrix format',\n"
     ]
    },
    {
     "ename": "RuntimeError",
     "evalue": "SUPERLU_MALLOC fails for buf in intCalloc() at line 159 in file scipy/sparse/linalg/_dsolve/SuperLU/SRC/memory.c\n",
     "output_type": "error",
     "traceback": [
      "\u001b[0;31m---------------------------------------------------------------------------\u001b[0m",
      "\u001b[0;31mRuntimeError\u001b[0m                              Traceback (most recent call last)",
      "\u001b[1;32m/Users/deepanshu/Desktop/COL783/code.ipynb Cell 6\u001b[0m in \u001b[0;36m<cell line: 7>\u001b[0;34m()\u001b[0m\n\u001b[1;32m      <a href='vscode-notebook-cell:/Users/deepanshu/Desktop/COL783/code.ipynb#X23sZmlsZQ%3D%3D?line=4'>5</a>\u001b[0m lab_image \u001b[39m=\u001b[39m cv2\u001b[39m.\u001b[39mcvtColor(img, cv2\u001b[39m.\u001b[39mCOLOR_BGR2LAB)\n\u001b[1;32m      <a href='vscode-notebook-cell:/Users/deepanshu/Desktop/COL783/code.ipynb#X23sZmlsZQ%3D%3D?line=5'>6</a>\u001b[0m l,a,b \u001b[39m=\u001b[39m cv2\u001b[39m.\u001b[39msplit(lab_image)\n\u001b[0;32m----> <a href='vscode-notebook-cell:/Users/deepanshu/Desktop/COL783/code.ipynb#X23sZmlsZQ%3D%3D?line=6'>7</a>\u001b[0m base, detail \u001b[39m=\u001b[39m wlsfilter(l)\n\u001b[1;32m      <a href='vscode-notebook-cell:/Users/deepanshu/Desktop/COL783/code.ipynb#X23sZmlsZQ%3D%3D?line=7'>8</a>\u001b[0m ans \u001b[39m=\u001b[39m base\n\u001b[1;32m      <a href='vscode-notebook-cell:/Users/deepanshu/Desktop/COL783/code.ipynb#X23sZmlsZQ%3D%3D?line=8'>9</a>\u001b[0m A \u001b[39m=\u001b[39m np\u001b[39m.\u001b[39mzeros((img\u001b[39m.\u001b[39mshape[\u001b[39m0\u001b[39m], img\u001b[39m.\u001b[39mshape[\u001b[39m1\u001b[39m]))\n",
      "\u001b[1;32m/Users/deepanshu/Desktop/COL783/code.ipynb Cell 6\u001b[0m in \u001b[0;36mwlsfilter\u001b[0;34m(image_orig, lambda_, alpha, small_eps)\u001b[0m\n\u001b[1;32m     <a href='vscode-notebook-cell:/Users/deepanshu/Desktop/COL783/code.ipynb#X23sZmlsZQ%3D%3D?line=29'>30</a>\u001b[0m d \u001b[39m=\u001b[39m \u001b[39m1\u001b[39m \u001b[39m-\u001b[39m (dx \u001b[39m+\u001b[39m np\u001b[39m.\u001b[39mroll(dx, s[\u001b[39m0\u001b[39m]) \u001b[39m+\u001b[39m dy \u001b[39m+\u001b[39m np\u001b[39m.\u001b[39mroll(dy, \u001b[39m1\u001b[39m))\n\u001b[1;32m     <a href='vscode-notebook-cell:/Users/deepanshu/Desktop/COL783/code.ipynb#X23sZmlsZQ%3D%3D?line=30'>31</a>\u001b[0m a \u001b[39m=\u001b[39m a \u001b[39m+\u001b[39m a\u001b[39m.\u001b[39mT \u001b[39m+\u001b[39m spdiags(d, \u001b[39m0\u001b[39m, k, k)\n\u001b[0;32m---> <a href='vscode-notebook-cell:/Users/deepanshu/Desktop/COL783/code.ipynb#X23sZmlsZQ%3D%3D?line=31'>32</a>\u001b[0m _out \u001b[39m=\u001b[39m spsolve(a, image\u001b[39m.\u001b[39;49mflatten())\u001b[39m.\u001b[39mreshape(s[::\u001b[39m-\u001b[39m\u001b[39m1\u001b[39m])\n\u001b[1;32m     <a href='vscode-notebook-cell:/Users/deepanshu/Desktop/COL783/code.ipynb#X23sZmlsZQ%3D%3D?line=32'>33</a>\u001b[0m out \u001b[39m=\u001b[39m np\u001b[39m.\u001b[39mrollaxis(_out,\u001b[39m1\u001b[39m)\n\u001b[1;32m     <a href='vscode-notebook-cell:/Users/deepanshu/Desktop/COL783/code.ipynb#X23sZmlsZQ%3D%3D?line=34'>35</a>\u001b[0m detail \u001b[39m=\u001b[39m image \u001b[39m-\u001b[39m out\n",
      "File \u001b[0;32m~/miniconda3/envs/col783/lib/python3.10/site-packages/scipy/sparse/linalg/_dsolve/linsolve.py:227\u001b[0m, in \u001b[0;36mspsolve\u001b[0;34m(A, b, permc_spec, use_umfpack)\u001b[0m\n\u001b[1;32m    224\u001b[0m     flag \u001b[39m=\u001b[39m \u001b[39m0\u001b[39m  \u001b[39m# CSR format\u001b[39;00m\n\u001b[1;32m    226\u001b[0m options \u001b[39m=\u001b[39m \u001b[39mdict\u001b[39m(ColPerm\u001b[39m=\u001b[39mpermc_spec)\n\u001b[0;32m--> 227\u001b[0m x, info \u001b[39m=\u001b[39m _superlu\u001b[39m.\u001b[39;49mgssv(N, A\u001b[39m.\u001b[39;49mnnz, A\u001b[39m.\u001b[39;49mdata, A\u001b[39m.\u001b[39;49mindices, A\u001b[39m.\u001b[39;49mindptr,\n\u001b[1;32m    228\u001b[0m                         b, flag, options\u001b[39m=\u001b[39;49moptions)\n\u001b[1;32m    229\u001b[0m \u001b[39mif\u001b[39;00m info \u001b[39m!=\u001b[39m \u001b[39m0\u001b[39m:\n\u001b[1;32m    230\u001b[0m     warn(\u001b[39m\"\u001b[39m\u001b[39mMatrix is exactly singular\u001b[39m\u001b[39m\"\u001b[39m, MatrixRankWarning)\n",
      "\u001b[0;31mRuntimeError\u001b[0m: SUPERLU_MALLOC fails for buf in intCalloc() at line 159 in file scipy/sparse/linalg/_dsolve/SuperLU/SRC/memory.c\n"
     ]
    }
   ],
   "source": [
    "img = cv2.imread(\"c.png\")\n",
    "faces = face(img)\n",
    "print(len(faces))\n",
    "skinMask = skinmask(img)\n",
    "lab_image = cv2.cvtColor(img, cv2.COLOR_BGR2LAB)\n",
    "l,a,b = cv2.split(lab_image)\n",
    "base, detail = wlsfilter(l)\n",
    "ans = base\n",
    "A = np.zeros((img.shape[0], img.shape[1]))\n",
    "for (x,y,w,h) in faces:\n",
    "    f = np.array(w,h)\n",
    "    for i in range(x,x+w):\n",
    "        for j in range(y,y+h):\n",
    "            f[i-x][j-y] = img[i][j]\n",
    "    ar = isBiModal(f)\n",
    "    if(ar[0]==None):\n",
    "        continue\n",
    "    else:\n",
    "        print(\"HERE\")\n",
    "        d = ar[1]\n",
    "        b = ar[2]\n",
    "        m = ar[3]\n",
    "        factor = (b-d)/(m-d)\n",
    "        for i in range(x,x+w):\n",
    "            for j in range(y,y+h):\n",
    "                if(skinMask[i][j] and img[i][j]<=m):\n",
    "                    A[i][j] = A[i][j] + factor*img[i][j]\n",
    "        \n",
    "ans = ans*A\n",
    "print(A)\n",
    "ans = ans + detail\n",
    "cv2.imwrite('res.png',ans)"
   ]
  }
 ],
 "metadata": {
  "kernelspec": {
   "display_name": "Python 3.10.4 ('col783')",
   "language": "python",
   "name": "python3"
  },
  "language_info": {
   "codemirror_mode": {
    "name": "ipython",
    "version": 3
   },
   "file_extension": ".py",
   "mimetype": "text/x-python",
   "name": "python",
   "nbconvert_exporter": "python",
   "pygments_lexer": "ipython3",
   "version": "3.10.4"
  },
  "orig_nbformat": 4,
  "vscode": {
   "interpreter": {
    "hash": "544fcb0bcf9ae3d9027b3c80eb1f25a1ffcdfe33c3fd4ca95ad1480664f8d5d0"
   }
  }
 },
 "nbformat": 4,
 "nbformat_minor": 2
}
